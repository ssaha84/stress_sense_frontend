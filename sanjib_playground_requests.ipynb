{
 "cells": [
  {
   "cell_type": "code",
   "execution_count": 1,
   "id": "ce364642",
   "metadata": {},
   "outputs": [],
   "source": [
    "import requests"
   ]
  },
  {
   "cell_type": "code",
   "execution_count": 2,
   "id": "d5f64792",
   "metadata": {},
   "outputs": [],
   "source": [
    "BASE_URL = 'https://stress-sense-1032027763517.europe-west1.run.app/'\n",
    "ENDPOINT_PREDICT_STRESS = 'predict_stress_dl'\n",
    "ENDPOINT_PREDICT_THEME = 'predict_theme'"
   ]
  },
  {
   "cell_type": "code",
   "execution_count": null,
   "id": "f1c6db40",
   "metadata": {},
   "outputs": [
    {
     "data": {
      "text/plain": [
       "(200, '{\"welcome\":\"Hello\"}')"
      ]
     },
     "execution_count": 9,
     "metadata": {},
     "output_type": "execute_result"
    }
   ],
   "source": [
    "headers = {'Content-type':'Application/Json'}\n",
    "response = requests.get(BASE_URL,headers=headers)\n",
    "response.status_code, response.text"
   ]
  },
  {
   "cell_type": "code",
   "execution_count": null,
   "id": "7fe0f864",
   "metadata": {},
   "outputs": [
    {
     "data": {
      "text/plain": [
       "(200, '{\"welcome\":\"Hello\"}')"
      ]
     },
     "execution_count": 5,
     "metadata": {},
     "output_type": "execute_result"
    }
   ],
   "source": []
  },
  {
   "cell_type": "code",
   "execution_count": 18,
   "id": "68429986",
   "metadata": {},
   "outputs": [
    {
     "data": {
      "text/plain": [
       "(200, '{\"prediction\":\"Normal\"}')"
      ]
     },
     "execution_count": 18,
     "metadata": {},
     "output_type": "execute_result"
    }
   ],
   "source": [
    "# prompt = 'I am feeling very tired because of work'\n",
    "prompt =  'I am feeling very tired because of work\\n\\n'\n",
    "headers = {'Content-type':'Application/Json'}\n",
    "response = requests.get(BASE_URL+'/'+ENDPOINT_PREDICT_STRESS,params={'prompt':prompt},headers=headers)\n",
    "response.status_code, response.text"
   ]
  },
  {
   "cell_type": "code",
   "execution_count": 12,
   "id": "b64c859f",
   "metadata": {},
   "outputs": [
    {
     "data": {
      "text/plain": [
       "(200, '{\"theme\":\"work stress\",\"confidence_level\":0.8975079655647278}')"
      ]
     },
     "execution_count": 12,
     "metadata": {},
     "output_type": "execute_result"
    }
   ],
   "source": [
    "prompt = 'I am feeling very tired because of work'\n",
    "headers = {'Content-type':'Application/Json'}\n",
    "response = requests.get(BASE_URL+'/'+ENDPOINT_PREDICT_THEME,params={'prompt':prompt},headers=headers)\n",
    "response.status_code, response.text"
   ]
  },
  {
   "cell_type": "code",
   "execution_count": 13,
   "id": "15c1018a",
   "metadata": {},
   "outputs": [
    {
     "data": {
      "text/plain": [
       "['__attrs__',\n",
       " '__bool__',\n",
       " '__class__',\n",
       " '__delattr__',\n",
       " '__dict__',\n",
       " '__dir__',\n",
       " '__doc__',\n",
       " '__enter__',\n",
       " '__eq__',\n",
       " '__exit__',\n",
       " '__format__',\n",
       " '__ge__',\n",
       " '__getattribute__',\n",
       " '__getstate__',\n",
       " '__gt__',\n",
       " '__hash__',\n",
       " '__init__',\n",
       " '__init_subclass__',\n",
       " '__iter__',\n",
       " '__le__',\n",
       " '__lt__',\n",
       " '__module__',\n",
       " '__ne__',\n",
       " '__new__',\n",
       " '__nonzero__',\n",
       " '__reduce__',\n",
       " '__reduce_ex__',\n",
       " '__repr__',\n",
       " '__setattr__',\n",
       " '__setstate__',\n",
       " '__sizeof__',\n",
       " '__str__',\n",
       " '__subclasshook__',\n",
       " '__weakref__',\n",
       " '_content',\n",
       " '_content_consumed',\n",
       " '_next',\n",
       " 'apparent_encoding',\n",
       " 'close',\n",
       " 'connection',\n",
       " 'content',\n",
       " 'cookies',\n",
       " 'elapsed',\n",
       " 'encoding',\n",
       " 'headers',\n",
       " 'history',\n",
       " 'is_permanent_redirect',\n",
       " 'is_redirect',\n",
       " 'iter_content',\n",
       " 'iter_lines',\n",
       " 'json',\n",
       " 'links',\n",
       " 'next',\n",
       " 'ok',\n",
       " 'raise_for_status',\n",
       " 'raw',\n",
       " 'reason',\n",
       " 'request',\n",
       " 'status_code',\n",
       " 'text',\n",
       " 'url']"
      ]
     },
     "execution_count": 13,
     "metadata": {},
     "output_type": "execute_result"
    }
   ],
   "source": [
    "dir(response)"
   ]
  },
  {
   "cell_type": "code",
   "execution_count": 16,
   "id": "e4973978",
   "metadata": {},
   "outputs": [
    {
     "data": {
      "text/plain": [
       "'work stress'"
      ]
     },
     "execution_count": 16,
     "metadata": {},
     "output_type": "execute_result"
    }
   ],
   "source": [
    "response.json().get('theme')"
   ]
  },
  {
   "cell_type": "code",
   "execution_count": 17,
   "id": "1ec59780",
   "metadata": {},
   "outputs": [
    {
     "name": "stdout",
     "output_type": "stream",
     "text": [
      "<Response [200]>\n"
     ]
    }
   ],
   "source": [
    "print(response)"
   ]
  }
 ],
 "metadata": {
  "kernelspec": {
   "display_name": "Python 3",
   "language": "python",
   "name": "python3"
  },
  "language_info": {
   "codemirror_mode": {
    "name": "ipython",
    "version": 3
   },
   "file_extension": ".py",
   "mimetype": "text/x-python",
   "name": "python",
   "nbconvert_exporter": "python",
   "pygments_lexer": "ipython3",
   "version": "3.10.6"
  }
 },
 "nbformat": 4,
 "nbformat_minor": 5
}
