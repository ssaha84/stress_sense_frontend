{
 "cells": [
  {
   "cell_type": "markdown",
   "id": "5568ec00",
   "metadata": {},
   "source": [
    "# there needs to be an environment variable named GOOGLE_API_KEY with the api key for 'https://aistudio.google.com/apikey'"
   ]
  },
  {
   "cell_type": "code",
   "execution_count": 1,
   "id": "e99839c9",
   "metadata": {},
   "outputs": [],
   "source": [
    "from google import genai\n",
    "import os"
   ]
  },
  {
   "cell_type": "code",
   "execution_count": 2,
   "id": "6f862856",
   "metadata": {},
   "outputs": [
    {
     "data": {
      "text/plain": [
       "'Here are a few ways to translate \"Hello, how are you?\" into French, depending on the context and level of formality:\\n\\n*   **Formal:** Bonjour, comment allez-vous ?\\n\\n*   **Informal:** Salut, comment ça va ? or simply, Ça va ?\\n\\n*   **More casual/friendly:** Bonjour, comment vas-tu ?\\n\\nThe best option will depend on your relationship with the person you\\'re addressing.\\n'"
      ]
     },
     "execution_count": 2,
     "metadata": {},
     "output_type": "execute_result"
    }
   ],
   "source": [
    "# Instantiate a Gemini client\n",
    "client = genai.Client()\n",
    "# Prompt for the AI model\n",
    "prompt = \"Translate the following English text to French: 'Hello, how are you?'.\"\n",
    "\n",
    "# Make a request to the API to generate text\n",
    "response = client.models.generate_content(\n",
    "    model=\"gemini-2.0-flash\",  # Use the model of your choice\n",
    "    contents=prompt\n",
    ")\n",
    "response.text"
   ]
  },
  {
   "cell_type": "code",
   "execution_count": 3,
   "id": "6fed41c1",
   "metadata": {},
   "outputs": [
    {
     "data": {
      "text/plain": [
       "'Okay, here are some immediate intervention strategies for work-related stress:\\n\\n**In the Moment Techniques (For when feeling overwhelmed):**\\n\\n*   **Mini-Mindfulness Break (5 minutes max):** Close eyes (if possible), focus solely on breath entering and leaving the body. Count breaths, notice physical sensations. This grounds the nervous system. If closing eyes is not possible, focus your gaze at a single, neutral point.\\n\\n*   **Sensory Anchoring:** Identify one thing you can see, one thing you can hear, one thing you can touch, one thing you can smell. This engages the senses and pulls attention away from racing thoughts.\\n\\n*   **Muscle Relaxation (Progressive or Quick):** Tense and release specific muscle groups (e.g., clench fists then release, shrug shoulders up then drop them). This releases physical tension associated with stress. Alternatively, focus on relaxing the muscles in the forehead, jaw, and shoulders.\\n\\n*   **'"
      ]
     },
     "execution_count": 3,
     "metadata": {},
     "output_type": "execute_result"
    }
   ],
   "source": [
    "system_prompt = \"You are a professional psychologist with many years of experience dealing with patients suffering from different stress or anxiety issues\"\n",
    "prompt = \" Give some recommendations on how to best intervene work related stress. The intervention strategy must be immediate. Do not give strategies that needs to be followed for longer times. Do not address me as if you are talking to me.\"\n",
    "\n",
    "response = client.models.generate_content(\n",
    "    model=\"gemini-2.0-flash\",  # Use the model of your choice\n",
    "    contents=prompt,\n",
    "    config=genai.types.GenerateContentConfig(\n",
    "        system_instruction=system_prompt,\n",
    "        max_output_tokens=200,\n",
    "        temperature=1.2\n",
    "    )\n",
    ")\n",
    "response.text"
   ]
  },
  {
   "cell_type": "code",
   "execution_count": null,
   "id": "5ce08a7b",
   "metadata": {},
   "outputs": [],
   "source": []
  }
 ],
 "metadata": {
  "kernelspec": {
   "display_name": "Python 3",
   "language": "python",
   "name": "python3"
  },
  "language_info": {
   "codemirror_mode": {
    "name": "ipython",
    "version": 3
   },
   "file_extension": ".py",
   "mimetype": "text/x-python",
   "name": "python",
   "nbconvert_exporter": "python",
   "pygments_lexer": "ipython3",
   "version": "3.10.6"
  }
 },
 "nbformat": 4,
 "nbformat_minor": 5
}
